{
  "cells": [
    {
      "cell_type": "code",
      "execution_count": null,
      "metadata": {
        "cellView": "form",
        "id": "Y9EBc437WDOs"
      },
      "outputs": [],
      "source": [
        "#@markdown # Kết nối vào Google Drive\n",
        "from google.colab import drive\n",
        "from IPython.display import clear_output\n",
        "import ipywidgets as widgets\n",
        "import os\n",
        "\n",
        "def inf(msg, style, wdth): inf = widgets.Button(description=msg, disabled=True, button_style=style, layout=widgets.Layout(min_width=wdth));display(inf)\n",
        "Shared_Drive = \"\" #@param {type:\"string\"}\n",
        "#@markdown - Để trống nếu không sử dụng ổ đĩa để chia sẻ\n",
        "\n",
        "print(\"\u001b[0;33mĐang kết nối với Drive...\")\n",
        "drive.mount('/content/gdrive')\n",
        "\n",
        "if Shared_Drive!=\"\" and os.path.exists(\"/content/gdrive/Shareddrives\"):\n",
        "  mainpth=\"Shareddrives/\"+Shared_Drive\n",
        "else:\n",
        "  mainpth=\"MyDrive\"\n",
        "\n",
        "clear_output()\n",
        "inf('\\u2714 Hoàn thành','success', '50px')\n",
        "\n",
        "#@markdown ---"
      ]
    },
    {
      "cell_type": "code",
      "execution_count": null,
      "metadata": {
        "cellView": "form",
        "id": "ZGV_5H4xrOSp"
      },
      "outputs": [],
      "source": [
        "#@markdown # Cài đặt môi trường\n",
        "\n",
        "print('\u001b[1;32mĐang cài đặt môi trường cần thiết...')\n",
        "%cd /content/gdrive/MyDrive\n",
        "!git clone https://github.com/phantringuyen/Text2Furniture.git\n",
        "%cd /content/gdrive/MyDrive/Text2Furniture\n",
        "# Define the names of the new folders\n",
        "folder2 = 'output'\n",
        "\n",
        "# Create the folders\n",
        "os.makedirs(folder2, exist_ok=True)\n",
        "\n",
        "!pip install trimesh diffusers accelerate open3d pymeshlab rtree\n",
        "\n",
        "%pip install -q ipywidgets\n",
        "import ipywidgets as widgets\n",
        "from IPython.display import display\n",
        "from traitlets import traitlets\n",
        "import json\n",
        "\n",
        "#pytorch3D\n",
        "import sys\n",
        "import torch\n",
        "pyt_version_str=torch.__version__.split(\"+\")[0].replace(\".\", \"\")\n",
        "version_str=\"\".join([\n",
        "    f\"py3{sys.version_info.minor}_cu\",\n",
        "    torch.version.cuda.replace(\".\",\"\"),\n",
        "    f\"_pyt{pyt_version_str}\"\n",
        "])\n",
        "!pip install -U fvcore -U iopath -U forge fvcore iopath\n",
        "\n",
        "!pip install 'git+https://github.com/facebookresearch/pytorch3d.git@stable'\n",
        "\n",
        "clear_output()\n",
        "inf('\\u2714 Hoàn thành','success', '50px')\n",
        "\n",
        "#@markdown ---"
      ]
    },
    {
      "cell_type": "code",
      "execution_count": null,
      "metadata": {
        "cellView": "form",
        "id": "J4FUUKXpCjSG"
      },
      "outputs": [],
      "source": [
        "#@markdown # Mô hình tiền huấn luyện\n",
        "#@markdown Tải về hoặc thêm lối tắt các trọng số mô hình đã được tiền huấn luyện trước cho mô hình tạo sinh hình ảnh từ văn bản và mô hình dự đoán độ sâu tại [đường dẫn này](https://drive.google.com/drive/folders/1z3pLvjndvZaiYveLY0Vo7ugZzKvl1O7V?usp=drive_link) vào thư mục ```Text2Furniture/checkpoints``` bao gồm:\n",
        "#@markdown 1.   checkpoints/stable-diffusion-2-1-base\n",
        "#@markdown 2.   checkpoints/stable-diffusion-2-inpainting\n",
        "#@markdown 3.   checkpoints/irondepth_scannet.pt\n",
        "#@markdown 4.   checkpoints/normal_scannet.pt"
      ]
    },
    {
      "cell_type": "code",
      "execution_count": null,
      "metadata": {
        "cellView": "form",
        "id": "QmMWZIaE9aDK"
      },
      "outputs": [],
      "source": [
        "#@markdown # Bắt đầu tạo sinh mô hình ba chiều\n",
        "# Đường dẫn tới tệp trajectory.json\n",
        "json_path = '/content/gdrive/MyDrive/Text2Furniture/model/trajectories/examples/trajectory.json'\n",
        "\n",
        "# Tạo một ô nhập liệu cho câu prompt\n",
        "prompt_input = \"\" #@param {type:\"string\"}\n",
        "#@markdown - prompt_input: câu mô tả nội thất căn phòng\n",
        "\n",
        "# Hàm cập nhật JSON với prompt mới\n",
        "def update_json(prompt, file_path):\n",
        "    with open(file_path, 'r') as f:\n",
        "        data = json.load(f)\n",
        "    data[0]['prompt'] = prompt\n",
        "    with open(file_path, 'w') as f:\n",
        "        json.dump(data, f, indent=4)\n",
        "    print(f\"Generating a interior scene for prompt: {prompt}\")\n",
        "\n",
        "# Nút bấm để cập nhật JSON và chạy lệnh\n",
        "def on_button_click(b):\n",
        "    update_json(prompt_input, json_path)\n",
        "    %cd /content/gdrive/MyDrive/Text2Furniture\n",
        "    !python /content/gdrive/MyDrive/Text2Furniture/generate_scene.py \\\n",
        "    --trajectory_file '/content/gdrive/MyDrive/Text2Furniture/model/trajectories/examples/trajectory.json' \\\n",
        "    --prompt '{prompt_input}' \\\n",
        "    --n_images 5\n",
        "generate_button = widgets.Button(description=\"Tạo sinh 3D Mesh\", button_style='success')\n",
        "\n",
        "# Gán sự kiện click cho nút\n",
        "generate_button.on_click(on_button_click)\n",
        "\n",
        "# Hiển thị giao diện\n",
        "display(widgets.VBox([generate_button]))\n"
      ]
    }
  ],
  "metadata": {
    "colab": {
      "provenance": [],
      "toc_visible": true
    },
    "kernelspec": {
      "display_name": "Python 3",
      "name": "python3"
    },
    "language_info": {
      "name": "python"
    }
  },
  "nbformat": 4,
  "nbformat_minor": 0
}
